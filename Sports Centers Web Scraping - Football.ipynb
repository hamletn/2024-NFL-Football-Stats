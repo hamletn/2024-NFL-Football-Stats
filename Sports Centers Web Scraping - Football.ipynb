{
 "cells": [
  {
   "cell_type": "code",
   "execution_count": 34,
   "id": "55565866",
   "metadata": {},
   "outputs": [],
   "source": [
    "import pandas as pd\n",
    "url = \"https://www.espn.com/nfl/stats/_/view/team\"\n",
    "tables = pd.read_html(url)"
   ]
  },
  {
   "cell_type": "code",
   "execution_count": 2,
   "id": "0d4ed9eb",
   "metadata": {},
   "outputs": [
    {
     "data": {
      "text/html": [
       "<div>\n",
       "<style scoped>\n",
       "    .dataframe tbody tr th:only-of-type {\n",
       "        vertical-align: middle;\n",
       "    }\n",
       "\n",
       "    .dataframe tbody tr th {\n",
       "        vertical-align: top;\n",
       "    }\n",
       "\n",
       "    .dataframe thead th {\n",
       "        text-align: right;\n",
       "    }\n",
       "</style>\n",
       "<table border=\"1\" class=\"dataframe\">\n",
       "  <thead>\n",
       "    <tr style=\"text-align: right;\">\n",
       "      <th></th>\n",
       "      <th>Total Yards</th>\n",
       "      <th>YDS/G</th>\n",
       "    </tr>\n",
       "  </thead>\n",
       "  <tbody>\n",
       "    <tr>\n",
       "      <th>0</th>\n",
       "      <td>1</td>\n",
       "      <td>430.3</td>\n",
       "    </tr>\n",
       "    <tr>\n",
       "      <th>1</th>\n",
       "      <td>2</td>\n",
       "      <td>411.7</td>\n",
       "    </tr>\n",
       "    <tr>\n",
       "      <th>2</th>\n",
       "      <td>3</td>\n",
       "      <td>407.3</td>\n",
       "    </tr>\n",
       "    <tr>\n",
       "      <th>3</th>\n",
       "      <td>4</td>\n",
       "      <td>399.7</td>\n",
       "    </tr>\n",
       "    <tr>\n",
       "      <th>4</th>\n",
       "      <td>5</td>\n",
       "      <td>391.7</td>\n",
       "    </tr>\n",
       "  </tbody>\n",
       "</table>\n",
       "</div>"
      ],
      "text/plain": [
       "  Total Yards  YDS/G\n",
       "0           1  430.3\n",
       "1           2  411.7\n",
       "2           3  407.3\n",
       "3           4  399.7\n",
       "4           5  391.7"
      ]
     },
     "execution_count": 2,
     "metadata": {},
     "output_type": "execute_result"
    }
   ],
   "source": [
    "tables[0].head()"
   ]
  },
  {
   "cell_type": "code",
   "execution_count": 3,
   "id": "07b875bd",
   "metadata": {},
   "outputs": [
    {
     "data": {
      "text/html": [
       "<div>\n",
       "<style scoped>\n",
       "    .dataframe tbody tr th:only-of-type {\n",
       "        vertical-align: middle;\n",
       "    }\n",
       "\n",
       "    .dataframe tbody tr th {\n",
       "        vertical-align: top;\n",
       "    }\n",
       "\n",
       "    .dataframe thead th {\n",
       "        text-align: right;\n",
       "    }\n",
       "</style>\n",
       "<table border=\"1\" class=\"dataframe\">\n",
       "  <thead>\n",
       "    <tr style=\"text-align: right;\">\n",
       "      <th></th>\n",
       "      <th>Passing</th>\n",
       "      <th>YDS/G</th>\n",
       "    </tr>\n",
       "  </thead>\n",
       "  <tbody>\n",
       "    <tr>\n",
       "      <th>0</th>\n",
       "      <td>1</td>\n",
       "      <td>267.7</td>\n",
       "    </tr>\n",
       "    <tr>\n",
       "      <th>1</th>\n",
       "      <td>2</td>\n",
       "      <td>255.5</td>\n",
       "    </tr>\n",
       "    <tr>\n",
       "      <th>2</th>\n",
       "      <td>3</td>\n",
       "      <td>246.7</td>\n",
       "    </tr>\n",
       "    <tr>\n",
       "      <th>3</th>\n",
       "      <td>4</td>\n",
       "      <td>244.7</td>\n",
       "    </tr>\n",
       "    <tr>\n",
       "      <th>4</th>\n",
       "      <td>5</td>\n",
       "      <td>244.3</td>\n",
       "    </tr>\n",
       "  </tbody>\n",
       "</table>\n",
       "</div>"
      ],
      "text/plain": [
       "  Passing  YDS/G\n",
       "0       1  267.7\n",
       "1       2  255.5\n",
       "2       3  246.7\n",
       "3       4  244.7\n",
       "4       5  244.3"
      ]
     },
     "execution_count": 3,
     "metadata": {},
     "output_type": "execute_result"
    }
   ],
   "source": [
    "tables[1].head()"
   ]
  },
  {
   "cell_type": "code",
   "execution_count": 4,
   "id": "52f89a7f",
   "metadata": {},
   "outputs": [
    {
     "data": {
      "text/html": [
       "<div>\n",
       "<style scoped>\n",
       "    .dataframe tbody tr th:only-of-type {\n",
       "        vertical-align: middle;\n",
       "    }\n",
       "\n",
       "    .dataframe tbody tr th {\n",
       "        vertical-align: top;\n",
       "    }\n",
       "\n",
       "    .dataframe thead th {\n",
       "        text-align: right;\n",
       "    }\n",
       "</style>\n",
       "<table border=\"1\" class=\"dataframe\">\n",
       "  <thead>\n",
       "    <tr style=\"text-align: right;\">\n",
       "      <th></th>\n",
       "      <th>Rushing</th>\n",
       "      <th>YDS/G</th>\n",
       "    </tr>\n",
       "  </thead>\n",
       "  <tbody>\n",
       "    <tr>\n",
       "      <th>0</th>\n",
       "      <td>1</td>\n",
       "      <td>204.0</td>\n",
       "    </tr>\n",
       "    <tr>\n",
       "      <th>1</th>\n",
       "      <td>2</td>\n",
       "      <td>203.3</td>\n",
       "    </tr>\n",
       "    <tr>\n",
       "      <th>2</th>\n",
       "      <td>3</td>\n",
       "      <td>167.3</td>\n",
       "    </tr>\n",
       "    <tr>\n",
       "      <th>3</th>\n",
       "      <td>4</td>\n",
       "      <td>163.0</td>\n",
       "    </tr>\n",
       "    <tr>\n",
       "      <th>4</th>\n",
       "      <td>5</td>\n",
       "      <td>153.7</td>\n",
       "    </tr>\n",
       "  </tbody>\n",
       "</table>\n",
       "</div>"
      ],
      "text/plain": [
       "  Rushing  YDS/G\n",
       "0       1  204.0\n",
       "1       2  203.3\n",
       "2       3  167.3\n",
       "3       4  163.0\n",
       "4       5  153.7"
      ]
     },
     "execution_count": 4,
     "metadata": {},
     "output_type": "execute_result"
    }
   ],
   "source": [
    "tables[2].head()"
   ]
  },
  {
   "cell_type": "code",
   "execution_count": 5,
   "id": "798dea5b",
   "metadata": {},
   "outputs": [
    {
     "data": {
      "text/html": [
       "<div>\n",
       "<style scoped>\n",
       "    .dataframe tbody tr th:only-of-type {\n",
       "        vertical-align: middle;\n",
       "    }\n",
       "\n",
       "    .dataframe tbody tr th {\n",
       "        vertical-align: top;\n",
       "    }\n",
       "\n",
       "    .dataframe thead th {\n",
       "        text-align: right;\n",
       "    }\n",
       "</style>\n",
       "<table border=\"1\" class=\"dataframe\">\n",
       "  <thead>\n",
       "    <tr style=\"text-align: right;\">\n",
       "      <th></th>\n",
       "      <th>Yards Allowed</th>\n",
       "      <th>YDS/G</th>\n",
       "    </tr>\n",
       "  </thead>\n",
       "  <tbody>\n",
       "    <tr>\n",
       "      <th>0</th>\n",
       "      <td>1</td>\n",
       "      <td>229.0</td>\n",
       "    </tr>\n",
       "    <tr>\n",
       "      <th>1</th>\n",
       "      <td>2</td>\n",
       "      <td>248.7</td>\n",
       "    </tr>\n",
       "    <tr>\n",
       "      <th>2</th>\n",
       "      <td>3</td>\n",
       "      <td>259.3</td>\n",
       "    </tr>\n",
       "    <tr>\n",
       "      <th>3</th>\n",
       "      <td>4</td>\n",
       "      <td>260.7</td>\n",
       "    </tr>\n",
       "    <tr>\n",
       "      <th>4</th>\n",
       "      <td>5</td>\n",
       "      <td>263.7</td>\n",
       "    </tr>\n",
       "  </tbody>\n",
       "</table>\n",
       "</div>"
      ],
      "text/plain": [
       "  Yards Allowed  YDS/G\n",
       "0             1  229.0\n",
       "1             2  248.7\n",
       "2             3  259.3\n",
       "3             4  260.7\n",
       "4             5  263.7"
      ]
     },
     "execution_count": 5,
     "metadata": {},
     "output_type": "execute_result"
    }
   ],
   "source": [
    "tables[3].head()"
   ]
  },
  {
   "cell_type": "code",
   "execution_count": 6,
   "id": "0b00d068",
   "metadata": {},
   "outputs": [
    {
     "data": {
      "text/html": [
       "<div>\n",
       "<style scoped>\n",
       "    .dataframe tbody tr th:only-of-type {\n",
       "        vertical-align: middle;\n",
       "    }\n",
       "\n",
       "    .dataframe tbody tr th {\n",
       "        vertical-align: top;\n",
       "    }\n",
       "\n",
       "    .dataframe thead th {\n",
       "        text-align: right;\n",
       "    }\n",
       "</style>\n",
       "<table border=\"1\" class=\"dataframe\">\n",
       "  <thead>\n",
       "    <tr style=\"text-align: right;\">\n",
       "      <th></th>\n",
       "      <th>Sacks</th>\n",
       "      <th>SACK</th>\n",
       "    </tr>\n",
       "  </thead>\n",
       "  <tbody>\n",
       "    <tr>\n",
       "      <th>0</th>\n",
       "      <td>1</td>\n",
       "      <td>16.0</td>\n",
       "    </tr>\n",
       "    <tr>\n",
       "      <th>1</th>\n",
       "      <td>2</td>\n",
       "      <td>15.0</td>\n",
       "    </tr>\n",
       "    <tr>\n",
       "      <th>2</th>\n",
       "      <td>3</td>\n",
       "      <td>14.0</td>\n",
       "    </tr>\n",
       "    <tr>\n",
       "      <th>3</th>\n",
       "      <td>4</td>\n",
       "      <td>13.0</td>\n",
       "    </tr>\n",
       "    <tr>\n",
       "      <th>4</th>\n",
       "      <td>5</td>\n",
       "      <td>11.0</td>\n",
       "    </tr>\n",
       "  </tbody>\n",
       "</table>\n",
       "</div>"
      ],
      "text/plain": [
       "  Sacks  SACK\n",
       "0     1  16.0\n",
       "1     2  15.0\n",
       "2     3  14.0\n",
       "3     4  13.0\n",
       "4     5  11.0"
      ]
     },
     "execution_count": 6,
     "metadata": {},
     "output_type": "execute_result"
    }
   ],
   "source": [
    "tables[4].head()"
   ]
  },
  {
   "cell_type": "code",
   "execution_count": 7,
   "id": "9735b4a5",
   "metadata": {},
   "outputs": [
    {
     "data": {
      "text/html": [
       "<div>\n",
       "<style scoped>\n",
       "    .dataframe tbody tr th:only-of-type {\n",
       "        vertical-align: middle;\n",
       "    }\n",
       "\n",
       "    .dataframe tbody tr th {\n",
       "        vertical-align: top;\n",
       "    }\n",
       "\n",
       "    .dataframe thead th {\n",
       "        text-align: right;\n",
       "    }\n",
       "</style>\n",
       "<table border=\"1\" class=\"dataframe\">\n",
       "  <thead>\n",
       "    <tr style=\"text-align: right;\">\n",
       "      <th></th>\n",
       "      <th>Turnovers</th>\n",
       "      <th>DIFF</th>\n",
       "    </tr>\n",
       "  </thead>\n",
       "  <tbody>\n",
       "    <tr>\n",
       "      <th>0</th>\n",
       "      <td>1</td>\n",
       "      <td>7</td>\n",
       "    </tr>\n",
       "    <tr>\n",
       "      <th>1</th>\n",
       "      <td>2</td>\n",
       "      <td>5</td>\n",
       "    </tr>\n",
       "    <tr>\n",
       "      <th>2</th>\n",
       "      <td>3</td>\n",
       "      <td>4</td>\n",
       "    </tr>\n",
       "    <tr>\n",
       "      <th>3</th>\n",
       "      <td>3</td>\n",
       "      <td>4</td>\n",
       "    </tr>\n",
       "    <tr>\n",
       "      <th>4</th>\n",
       "      <td>5</td>\n",
       "      <td>3</td>\n",
       "    </tr>\n",
       "  </tbody>\n",
       "</table>\n",
       "</div>"
      ],
      "text/plain": [
       "  Turnovers DIFF\n",
       "0         1    7\n",
       "1         2    5\n",
       "2         3    4\n",
       "3         3    4\n",
       "4         5    3"
      ]
     },
     "execution_count": 7,
     "metadata": {},
     "output_type": "execute_result"
    }
   ],
   "source": [
    "tables[5].head()"
   ]
  },
  {
   "cell_type": "code",
   "execution_count": 12,
   "id": "f72ceaa3",
   "metadata": {},
   "outputs": [],
   "source": [
    "Total_Yards = tables[0]\n",
    "Total_Passing = tables[1]\n",
    "Total_Rushing = tables[2]\n",
    "Total_Yards_Allowed = tables[3]\n",
    "Total_Sacks = tables[4]\n",
    "Total_Turnovers = tables[5]\n"
   ]
  },
  {
   "cell_type": "code",
   "execution_count": 13,
   "id": "2933842e",
   "metadata": {},
   "outputs": [
    {
     "data": {
      "text/plain": [
       "pandas.core.frame.DataFrame"
      ]
     },
     "execution_count": 13,
     "metadata": {},
     "output_type": "execute_result"
    }
   ],
   "source": [
    "type(Total_Yards)"
   ]
  },
  {
   "cell_type": "code",
   "execution_count": 14,
   "id": "0d31d30c",
   "metadata": {},
   "outputs": [
    {
     "data": {
      "text/plain": [
       "Total Yards    object\n",
       "YDS/G          object\n",
       "dtype: object"
      ]
     },
     "execution_count": 14,
     "metadata": {},
     "output_type": "execute_result"
    }
   ],
   "source": [
    "Total_Yards.dtypes"
   ]
  },
  {
   "cell_type": "code",
   "execution_count": 15,
   "id": "75020a36",
   "metadata": {},
   "outputs": [
    {
     "data": {
      "text/plain": [
       "Passing    object\n",
       "YDS/G      object\n",
       "dtype: object"
      ]
     },
     "execution_count": 15,
     "metadata": {},
     "output_type": "execute_result"
    }
   ],
   "source": [
    "Total_Passing.dtypes"
   ]
  },
  {
   "cell_type": "code",
   "execution_count": 16,
   "id": "ef970e18",
   "metadata": {},
   "outputs": [
    {
     "data": {
      "text/plain": [
       "Rushing    object\n",
       "YDS/G      object\n",
       "dtype: object"
      ]
     },
     "execution_count": 16,
     "metadata": {},
     "output_type": "execute_result"
    }
   ],
   "source": [
    "Total_Rushing.dtypes"
   ]
  },
  {
   "cell_type": "code",
   "execution_count": 17,
   "id": "fa3d95fe",
   "metadata": {},
   "outputs": [
    {
     "data": {
      "text/plain": [
       "Yards Allowed    object\n",
       "YDS/G            object\n",
       "dtype: object"
      ]
     },
     "execution_count": 17,
     "metadata": {},
     "output_type": "execute_result"
    }
   ],
   "source": [
    "Total_Yards_Allowed.dtypes"
   ]
  },
  {
   "cell_type": "code",
   "execution_count": 18,
   "id": "c8d780e7",
   "metadata": {},
   "outputs": [
    {
     "data": {
      "text/plain": [
       "Sacks    object\n",
       "SACK     object\n",
       "dtype: object"
      ]
     },
     "execution_count": 18,
     "metadata": {},
     "output_type": "execute_result"
    }
   ],
   "source": [
    "Total_Sacks.dtypes"
   ]
  },
  {
   "cell_type": "code",
   "execution_count": 19,
   "id": "e91a8901",
   "metadata": {},
   "outputs": [
    {
     "data": {
      "text/plain": [
       "Turnovers    object\n",
       "DIFF         object\n",
       "dtype: object"
      ]
     },
     "execution_count": 19,
     "metadata": {},
     "output_type": "execute_result"
    }
   ],
   "source": [
    "Total_Turnovers.dtypes"
   ]
  },
  {
   "cell_type": "code",
   "execution_count": 20,
   "id": "27d82450",
   "metadata": {},
   "outputs": [],
   "source": [
    "df_total_yards = pd.DataFrame(Total_Yards)"
   ]
  },
  {
   "cell_type": "code",
   "execution_count": 53,
   "id": "a86c3e34",
   "metadata": {},
   "outputs": [],
   "source": [
    "Teams = [\"Baltimore Ravens\", \"Philadelphia Eagles\", \"San Francisco 49ers\", \"Detroit Lions\", \"Green Bay Packers\"]"
   ]
  },
  {
   "cell_type": "code",
   "execution_count": 38,
   "id": "2c88d971",
   "metadata": {},
   "outputs": [],
   "source": [
    "df1 = pd.DataFrame(Total_Yards)"
   ]
  },
  {
   "cell_type": "code",
   "execution_count": 59,
   "id": "b94c311e",
   "metadata": {},
   "outputs": [],
   "source": [
    "df1.insert(1, \"Team\", [\"Baltimore Ravens\", \"Philadelphia Eagles\", \"San Francisco 49ers\", \"Detroit Lions\", \"Green Bay Packers\",\"Team\"], True)"
   ]
  },
  {
   "cell_type": "code",
   "execution_count": 60,
   "id": "00a5168c",
   "metadata": {},
   "outputs": [
    {
     "name": "stdout",
     "output_type": "stream",
     "text": [
      "        Total Yards                 Team                 Team  \\\n",
      "0                 1     Baltimore Ravens     Baltimore Ravens   \n",
      "1                 2  Philadelphia Eagles  Philadelphia Eagles   \n",
      "2                 3  San Francisco 49ers  San Francisco 49ers   \n",
      "3                 4        Detroit Lions        Detroit Lions   \n",
      "4                 5    Green Bay Packers    Green Bay Packers   \n",
      "5  Complete Leaders                 Team                 Team   \n",
      "\n",
      "                  Team             YDS/G  \n",
      "0                 Team             430.3  \n",
      "1     Baltimore Ravens             411.7  \n",
      "2  Philadelphia Eagles             407.3  \n",
      "3  San Francisco 49ers             399.7  \n",
      "4        Detroit Lions             391.7  \n",
      "5    Green Bay Packers  Complete Leaders  \n"
     ]
    }
   ],
   "source": [
    "print(df1)"
   ]
  },
  {
   "cell_type": "code",
   "execution_count": 55,
   "id": "a5980ac6",
   "metadata": {},
   "outputs": [
    {
     "data": {
      "text/html": [
       "<div>\n",
       "<style scoped>\n",
       "    .dataframe tbody tr th:only-of-type {\n",
       "        vertical-align: middle;\n",
       "    }\n",
       "\n",
       "    .dataframe tbody tr th {\n",
       "        vertical-align: top;\n",
       "    }\n",
       "\n",
       "    .dataframe thead th {\n",
       "        text-align: right;\n",
       "    }\n",
       "</style>\n",
       "<table border=\"1\" class=\"dataframe\">\n",
       "  <thead>\n",
       "    <tr style=\"text-align: right;\">\n",
       "      <th></th>\n",
       "      <th>Ranking</th>\n",
       "      <th>Team</th>\n",
       "      <th>Team</th>\n",
       "      <th>YDS/G</th>\n",
       "    </tr>\n",
       "  </thead>\n",
       "  <tbody>\n",
       "    <tr>\n",
       "      <th>0</th>\n",
       "      <td>1</td>\n",
       "      <td>Baltimore Ravens</td>\n",
       "      <td>Team</td>\n",
       "      <td>430.3</td>\n",
       "    </tr>\n",
       "    <tr>\n",
       "      <th>1</th>\n",
       "      <td>2</td>\n",
       "      <td>Philadelphia Eagles</td>\n",
       "      <td>Baltimore Ravens</td>\n",
       "      <td>411.7</td>\n",
       "    </tr>\n",
       "    <tr>\n",
       "      <th>2</th>\n",
       "      <td>3</td>\n",
       "      <td>San Francisco 49ers</td>\n",
       "      <td>Philadelphia Eagles</td>\n",
       "      <td>407.3</td>\n",
       "    </tr>\n",
       "    <tr>\n",
       "      <th>3</th>\n",
       "      <td>4</td>\n",
       "      <td>Detroit Lions</td>\n",
       "      <td>San Francisco 49ers</td>\n",
       "      <td>399.7</td>\n",
       "    </tr>\n",
       "    <tr>\n",
       "      <th>4</th>\n",
       "      <td>5</td>\n",
       "      <td>Green Bay Packers</td>\n",
       "      <td>Detroit Lions</td>\n",
       "      <td>391.7</td>\n",
       "    </tr>\n",
       "    <tr>\n",
       "      <th>5</th>\n",
       "      <td>Complete Leaders</td>\n",
       "      <td>Team</td>\n",
       "      <td>Green Bay Packers</td>\n",
       "      <td>Complete Leaders</td>\n",
       "    </tr>\n",
       "  </tbody>\n",
       "</table>\n",
       "</div>"
      ],
      "text/plain": [
       "            Ranking                 Team                 Team  \\\n",
       "0                 1     Baltimore Ravens                 Team   \n",
       "1                 2  Philadelphia Eagles     Baltimore Ravens   \n",
       "2                 3  San Francisco 49ers  Philadelphia Eagles   \n",
       "3                 4        Detroit Lions  San Francisco 49ers   \n",
       "4                 5    Green Bay Packers        Detroit Lions   \n",
       "5  Complete Leaders                 Team    Green Bay Packers   \n",
       "\n",
       "              YDS/G  \n",
       "0             430.3  \n",
       "1             411.7  \n",
       "2             407.3  \n",
       "3             399.7  \n",
       "4             391.7  \n",
       "5  Complete Leaders  "
      ]
     },
     "execution_count": 55,
     "metadata": {},
     "output_type": "execute_result"
    }
   ],
   "source": [
    "df1.rename(columns={\"Total Yards\": \"Ranking\"})"
   ]
  },
  {
   "cell_type": "code",
   "execution_count": 61,
   "id": "44520081",
   "metadata": {},
   "outputs": [
    {
     "data": {
      "text/html": [
       "<div>\n",
       "<style scoped>\n",
       "    .dataframe tbody tr th:only-of-type {\n",
       "        vertical-align: middle;\n",
       "    }\n",
       "\n",
       "    .dataframe tbody tr th {\n",
       "        vertical-align: top;\n",
       "    }\n",
       "\n",
       "    .dataframe thead th {\n",
       "        text-align: right;\n",
       "    }\n",
       "</style>\n",
       "<table border=\"1\" class=\"dataframe\">\n",
       "  <thead>\n",
       "    <tr style=\"text-align: right;\">\n",
       "      <th></th>\n",
       "      <th>Total Yards</th>\n",
       "      <th>Team</th>\n",
       "      <th>Team</th>\n",
       "      <th>Team</th>\n",
       "      <th>YDS/G</th>\n",
       "    </tr>\n",
       "  </thead>\n",
       "  <tbody>\n",
       "    <tr>\n",
       "      <th>1</th>\n",
       "      <td>2</td>\n",
       "      <td>Philadelphia Eagles</td>\n",
       "      <td>Philadelphia Eagles</td>\n",
       "      <td>Baltimore Ravens</td>\n",
       "      <td>411.7</td>\n",
       "    </tr>\n",
       "    <tr>\n",
       "      <th>2</th>\n",
       "      <td>3</td>\n",
       "      <td>San Francisco 49ers</td>\n",
       "      <td>San Francisco 49ers</td>\n",
       "      <td>Philadelphia Eagles</td>\n",
       "      <td>407.3</td>\n",
       "    </tr>\n",
       "    <tr>\n",
       "      <th>3</th>\n",
       "      <td>4</td>\n",
       "      <td>Detroit Lions</td>\n",
       "      <td>Detroit Lions</td>\n",
       "      <td>San Francisco 49ers</td>\n",
       "      <td>399.7</td>\n",
       "    </tr>\n",
       "    <tr>\n",
       "      <th>4</th>\n",
       "      <td>5</td>\n",
       "      <td>Green Bay Packers</td>\n",
       "      <td>Green Bay Packers</td>\n",
       "      <td>Detroit Lions</td>\n",
       "      <td>391.7</td>\n",
       "    </tr>\n",
       "  </tbody>\n",
       "</table>\n",
       "</div>"
      ],
      "text/plain": [
       "  Total Yards                 Team                 Team                 Team  \\\n",
       "1           2  Philadelphia Eagles  Philadelphia Eagles     Baltimore Ravens   \n",
       "2           3  San Francisco 49ers  San Francisco 49ers  Philadelphia Eagles   \n",
       "3           4        Detroit Lions        Detroit Lions  San Francisco 49ers   \n",
       "4           5    Green Bay Packers    Green Bay Packers        Detroit Lions   \n",
       "\n",
       "   YDS/G  \n",
       "1  411.7  \n",
       "2  407.3  \n",
       "3  399.7  \n",
       "4  391.7  "
      ]
     },
     "execution_count": 61,
     "metadata": {},
     "output_type": "execute_result"
    }
   ],
   "source": [
    "df1.drop([0,5])"
   ]
  },
  {
   "cell_type": "code",
   "execution_count": 62,
   "id": "394448e1",
   "metadata": {},
   "outputs": [],
   "source": [
    "df1_1 = df1.drop(df1.columns[[2]], axis=1)"
   ]
  },
  {
   "cell_type": "code",
   "execution_count": 63,
   "id": "97fa105d",
   "metadata": {},
   "outputs": [
    {
     "name": "stdout",
     "output_type": "stream",
     "text": [
      "        Total Yards             YDS/G\n",
      "0                 1             430.3\n",
      "1                 2             411.7\n",
      "2                 3             407.3\n",
      "3                 4             399.7\n",
      "4                 5             391.7\n",
      "5  Complete Leaders  Complete Leaders\n"
     ]
    }
   ],
   "source": [
    "print(df1_1)"
   ]
  },
  {
   "cell_type": "code",
   "execution_count": 65,
   "id": "dd075265",
   "metadata": {},
   "outputs": [
    {
     "data": {
      "text/html": [
       "<div>\n",
       "<style scoped>\n",
       "    .dataframe tbody tr th:only-of-type {\n",
       "        vertical-align: middle;\n",
       "    }\n",
       "\n",
       "    .dataframe tbody tr th {\n",
       "        vertical-align: top;\n",
       "    }\n",
       "\n",
       "    .dataframe thead th {\n",
       "        text-align: right;\n",
       "    }\n",
       "</style>\n",
       "<table border=\"1\" class=\"dataframe\">\n",
       "  <thead>\n",
       "    <tr style=\"text-align: right;\">\n",
       "      <th></th>\n",
       "      <th>Ranking</th>\n",
       "      <th>YDS/G</th>\n",
       "    </tr>\n",
       "  </thead>\n",
       "  <tbody>\n",
       "    <tr>\n",
       "      <th>0</th>\n",
       "      <td>1</td>\n",
       "      <td>430.3</td>\n",
       "    </tr>\n",
       "    <tr>\n",
       "      <th>1</th>\n",
       "      <td>2</td>\n",
       "      <td>411.7</td>\n",
       "    </tr>\n",
       "    <tr>\n",
       "      <th>2</th>\n",
       "      <td>3</td>\n",
       "      <td>407.3</td>\n",
       "    </tr>\n",
       "    <tr>\n",
       "      <th>3</th>\n",
       "      <td>4</td>\n",
       "      <td>399.7</td>\n",
       "    </tr>\n",
       "    <tr>\n",
       "      <th>4</th>\n",
       "      <td>5</td>\n",
       "      <td>391.7</td>\n",
       "    </tr>\n",
       "    <tr>\n",
       "      <th>5</th>\n",
       "      <td>Complete Leaders</td>\n",
       "      <td>Complete Leaders</td>\n",
       "    </tr>\n",
       "  </tbody>\n",
       "</table>\n",
       "</div>"
      ],
      "text/plain": [
       "            Ranking             YDS/G\n",
       "0                 1             430.3\n",
       "1                 2             411.7\n",
       "2                 3             407.3\n",
       "3                 4             399.7\n",
       "4                 5             391.7\n",
       "5  Complete Leaders  Complete Leaders"
      ]
     },
     "execution_count": 65,
     "metadata": {},
     "output_type": "execute_result"
    }
   ],
   "source": [
    "df1_1.rename(columns={\"Total Yards\": \"Ranking\"})"
   ]
  },
  {
   "cell_type": "code",
   "execution_count": 66,
   "id": "59656533",
   "metadata": {},
   "outputs": [
    {
     "data": {
      "text/html": [
       "<div>\n",
       "<style scoped>\n",
       "    .dataframe tbody tr th:only-of-type {\n",
       "        vertical-align: middle;\n",
       "    }\n",
       "\n",
       "    .dataframe tbody tr th {\n",
       "        vertical-align: top;\n",
       "    }\n",
       "\n",
       "    .dataframe thead th {\n",
       "        text-align: right;\n",
       "    }\n",
       "</style>\n",
       "<table border=\"1\" class=\"dataframe\">\n",
       "  <thead>\n",
       "    <tr style=\"text-align: right;\">\n",
       "      <th></th>\n",
       "      <th>Total Yards</th>\n",
       "      <th>YDS/G</th>\n",
       "    </tr>\n",
       "  </thead>\n",
       "  <tbody>\n",
       "    <tr>\n",
       "      <th>1</th>\n",
       "      <td>2</td>\n",
       "      <td>411.7</td>\n",
       "    </tr>\n",
       "    <tr>\n",
       "      <th>2</th>\n",
       "      <td>3</td>\n",
       "      <td>407.3</td>\n",
       "    </tr>\n",
       "    <tr>\n",
       "      <th>3</th>\n",
       "      <td>4</td>\n",
       "      <td>399.7</td>\n",
       "    </tr>\n",
       "    <tr>\n",
       "      <th>4</th>\n",
       "      <td>5</td>\n",
       "      <td>391.7</td>\n",
       "    </tr>\n",
       "  </tbody>\n",
       "</table>\n",
       "</div>"
      ],
      "text/plain": [
       "  Total Yards  YDS/G\n",
       "1           2  411.7\n",
       "2           3  407.3\n",
       "3           4  399.7\n",
       "4           5  391.7"
      ]
     },
     "execution_count": 66,
     "metadata": {},
     "output_type": "execute_result"
    }
   ],
   "source": [
    "df1_1.drop([0,5])"
   ]
  },
  {
   "cell_type": "code",
   "execution_count": 67,
   "id": "587ea61f",
   "metadata": {},
   "outputs": [],
   "source": [
    "df1_1.insert(1, \"Team\", [\"Baltimore Ravens\", \"Philadelphia Eagles\", \"San Francisco 49ers\", \"Detroit Lions\", \"Green Bay Packers\",\"Team\"], True)"
   ]
  },
  {
   "cell_type": "code",
   "execution_count": 68,
   "id": "db174f62",
   "metadata": {},
   "outputs": [
    {
     "name": "stdout",
     "output_type": "stream",
     "text": [
      "        Total Yards                 Team             YDS/G\n",
      "0                 1     Baltimore Ravens             430.3\n",
      "1                 2  Philadelphia Eagles             411.7\n",
      "2                 3  San Francisco 49ers             407.3\n",
      "3                 4        Detroit Lions             399.7\n",
      "4                 5    Green Bay Packers             391.7\n",
      "5  Complete Leaders                 Team  Complete Leaders\n"
     ]
    }
   ],
   "source": [
    "print(df1_1)"
   ]
  },
  {
   "cell_type": "code",
   "execution_count": 69,
   "id": "97adeca5",
   "metadata": {},
   "outputs": [
    {
     "data": {
      "text/html": [
       "<div>\n",
       "<style scoped>\n",
       "    .dataframe tbody tr th:only-of-type {\n",
       "        vertical-align: middle;\n",
       "    }\n",
       "\n",
       "    .dataframe tbody tr th {\n",
       "        vertical-align: top;\n",
       "    }\n",
       "\n",
       "    .dataframe thead th {\n",
       "        text-align: right;\n",
       "    }\n",
       "</style>\n",
       "<table border=\"1\" class=\"dataframe\">\n",
       "  <thead>\n",
       "    <tr style=\"text-align: right;\">\n",
       "      <th></th>\n",
       "      <th>Total Yards</th>\n",
       "      <th>Team</th>\n",
       "      <th>YDS/G</th>\n",
       "    </tr>\n",
       "  </thead>\n",
       "  <tbody>\n",
       "    <tr>\n",
       "      <th>1</th>\n",
       "      <td>2</td>\n",
       "      <td>Philadelphia Eagles</td>\n",
       "      <td>411.7</td>\n",
       "    </tr>\n",
       "    <tr>\n",
       "      <th>2</th>\n",
       "      <td>3</td>\n",
       "      <td>San Francisco 49ers</td>\n",
       "      <td>407.3</td>\n",
       "    </tr>\n",
       "    <tr>\n",
       "      <th>3</th>\n",
       "      <td>4</td>\n",
       "      <td>Detroit Lions</td>\n",
       "      <td>399.7</td>\n",
       "    </tr>\n",
       "    <tr>\n",
       "      <th>4</th>\n",
       "      <td>5</td>\n",
       "      <td>Green Bay Packers</td>\n",
       "      <td>391.7</td>\n",
       "    </tr>\n",
       "  </tbody>\n",
       "</table>\n",
       "</div>"
      ],
      "text/plain": [
       "  Total Yards                 Team  YDS/G\n",
       "1           2  Philadelphia Eagles  411.7\n",
       "2           3  San Francisco 49ers  407.3\n",
       "3           4        Detroit Lions  399.7\n",
       "4           5    Green Bay Packers  391.7"
      ]
     },
     "execution_count": 69,
     "metadata": {},
     "output_type": "execute_result"
    }
   ],
   "source": [
    "df1_1.drop([0,5])"
   ]
  },
  {
   "cell_type": "code",
   "execution_count": 72,
   "id": "bc456948",
   "metadata": {},
   "outputs": [
    {
     "data": {
      "text/html": [
       "<div>\n",
       "<style scoped>\n",
       "    .dataframe tbody tr th:only-of-type {\n",
       "        vertical-align: middle;\n",
       "    }\n",
       "\n",
       "    .dataframe tbody tr th {\n",
       "        vertical-align: top;\n",
       "    }\n",
       "\n",
       "    .dataframe thead th {\n",
       "        text-align: right;\n",
       "    }\n",
       "</style>\n",
       "<table border=\"1\" class=\"dataframe\">\n",
       "  <thead>\n",
       "    <tr style=\"text-align: right;\">\n",
       "      <th></th>\n",
       "      <th>Ranking</th>\n",
       "      <th>Team</th>\n",
       "      <th>YDS/G</th>\n",
       "    </tr>\n",
       "  </thead>\n",
       "  <tbody>\n",
       "    <tr>\n",
       "      <th>0</th>\n",
       "      <td>1</td>\n",
       "      <td>Baltimore Ravens</td>\n",
       "      <td>430.3</td>\n",
       "    </tr>\n",
       "    <tr>\n",
       "      <th>1</th>\n",
       "      <td>2</td>\n",
       "      <td>Philadelphia Eagles</td>\n",
       "      <td>411.7</td>\n",
       "    </tr>\n",
       "    <tr>\n",
       "      <th>2</th>\n",
       "      <td>3</td>\n",
       "      <td>San Francisco 49ers</td>\n",
       "      <td>407.3</td>\n",
       "    </tr>\n",
       "    <tr>\n",
       "      <th>3</th>\n",
       "      <td>4</td>\n",
       "      <td>Detroit Lions</td>\n",
       "      <td>399.7</td>\n",
       "    </tr>\n",
       "    <tr>\n",
       "      <th>4</th>\n",
       "      <td>5</td>\n",
       "      <td>Green Bay Packers</td>\n",
       "      <td>391.7</td>\n",
       "    </tr>\n",
       "    <tr>\n",
       "      <th>5</th>\n",
       "      <td>Complete Leaders</td>\n",
       "      <td>Team</td>\n",
       "      <td>Complete Leaders</td>\n",
       "    </tr>\n",
       "  </tbody>\n",
       "</table>\n",
       "</div>"
      ],
      "text/plain": [
       "            Ranking                 Team             YDS/G\n",
       "0                 1     Baltimore Ravens             430.3\n",
       "1                 2  Philadelphia Eagles             411.7\n",
       "2                 3  San Francisco 49ers             407.3\n",
       "3                 4        Detroit Lions             399.7\n",
       "4                 5    Green Bay Packers             391.7\n",
       "5  Complete Leaders                 Team  Complete Leaders"
      ]
     },
     "execution_count": 72,
     "metadata": {},
     "output_type": "execute_result"
    }
   ],
   "source": [
    "df1_1.rename(columns={\"Total Yards\": \"Ranking\"})"
   ]
  },
  {
   "cell_type": "code",
   "execution_count": 71,
   "id": "9af9a0b7",
   "metadata": {},
   "outputs": [
    {
     "data": {
      "text/html": [
       "<div>\n",
       "<style scoped>\n",
       "    .dataframe tbody tr th:only-of-type {\n",
       "        vertical-align: middle;\n",
       "    }\n",
       "\n",
       "    .dataframe tbody tr th {\n",
       "        vertical-align: top;\n",
       "    }\n",
       "\n",
       "    .dataframe thead th {\n",
       "        text-align: right;\n",
       "    }\n",
       "</style>\n",
       "<table border=\"1\" class=\"dataframe\">\n",
       "  <thead>\n",
       "    <tr style=\"text-align: right;\">\n",
       "      <th></th>\n",
       "      <th>Total Yards</th>\n",
       "      <th>Team</th>\n",
       "      <th>YDS/G</th>\n",
       "    </tr>\n",
       "  </thead>\n",
       "  <tbody>\n",
       "    <tr>\n",
       "      <th>1</th>\n",
       "      <td>2</td>\n",
       "      <td>Philadelphia Eagles</td>\n",
       "      <td>411.7</td>\n",
       "    </tr>\n",
       "    <tr>\n",
       "      <th>2</th>\n",
       "      <td>3</td>\n",
       "      <td>San Francisco 49ers</td>\n",
       "      <td>407.3</td>\n",
       "    </tr>\n",
       "    <tr>\n",
       "      <th>3</th>\n",
       "      <td>4</td>\n",
       "      <td>Detroit Lions</td>\n",
       "      <td>399.7</td>\n",
       "    </tr>\n",
       "    <tr>\n",
       "      <th>4</th>\n",
       "      <td>5</td>\n",
       "      <td>Green Bay Packers</td>\n",
       "      <td>391.7</td>\n",
       "    </tr>\n",
       "  </tbody>\n",
       "</table>\n",
       "</div>"
      ],
      "text/plain": [
       "  Total Yards                 Team  YDS/G\n",
       "1           2  Philadelphia Eagles  411.7\n",
       "2           3  San Francisco 49ers  407.3\n",
       "3           4        Detroit Lions  399.7\n",
       "4           5    Green Bay Packers  391.7"
      ]
     },
     "execution_count": 71,
     "metadata": {},
     "output_type": "execute_result"
    }
   ],
   "source": [
    "df1_1.drop([0,5])"
   ]
  },
  {
   "cell_type": "code",
   "execution_count": 73,
   "id": "60404bac",
   "metadata": {},
   "outputs": [
    {
     "data": {
      "text/html": [
       "<div>\n",
       "<style scoped>\n",
       "    .dataframe tbody tr th:only-of-type {\n",
       "        vertical-align: middle;\n",
       "    }\n",
       "\n",
       "    .dataframe tbody tr th {\n",
       "        vertical-align: top;\n",
       "    }\n",
       "\n",
       "    .dataframe thead th {\n",
       "        text-align: right;\n",
       "    }\n",
       "</style>\n",
       "<table border=\"1\" class=\"dataframe\">\n",
       "  <thead>\n",
       "    <tr style=\"text-align: right;\">\n",
       "      <th></th>\n",
       "      <th>Total Yards</th>\n",
       "      <th>Team</th>\n",
       "      <th>YDS/G</th>\n",
       "    </tr>\n",
       "  </thead>\n",
       "  <tbody>\n",
       "    <tr>\n",
       "      <th>0</th>\n",
       "      <td>1</td>\n",
       "      <td>Baltimore Ravens</td>\n",
       "      <td>430.3</td>\n",
       "    </tr>\n",
       "    <tr>\n",
       "      <th>1</th>\n",
       "      <td>2</td>\n",
       "      <td>Philadelphia Eagles</td>\n",
       "      <td>411.7</td>\n",
       "    </tr>\n",
       "    <tr>\n",
       "      <th>2</th>\n",
       "      <td>3</td>\n",
       "      <td>San Francisco 49ers</td>\n",
       "      <td>407.3</td>\n",
       "    </tr>\n",
       "    <tr>\n",
       "      <th>3</th>\n",
       "      <td>4</td>\n",
       "      <td>Detroit Lions</td>\n",
       "      <td>399.7</td>\n",
       "    </tr>\n",
       "    <tr>\n",
       "      <th>4</th>\n",
       "      <td>5</td>\n",
       "      <td>Green Bay Packers</td>\n",
       "      <td>391.7</td>\n",
       "    </tr>\n",
       "  </tbody>\n",
       "</table>\n",
       "</div>"
      ],
      "text/plain": [
       "  Total Yards                 Team  YDS/G\n",
       "0           1     Baltimore Ravens  430.3\n",
       "1           2  Philadelphia Eagles  411.7\n",
       "2           3  San Francisco 49ers  407.3\n",
       "3           4        Detroit Lions  399.7\n",
       "4           5    Green Bay Packers  391.7"
      ]
     },
     "execution_count": 73,
     "metadata": {},
     "output_type": "execute_result"
    }
   ],
   "source": [
    "df1_1.drop([5])"
   ]
  },
  {
   "cell_type": "code",
   "execution_count": 75,
   "id": "87e06b8b",
   "metadata": {},
   "outputs": [],
   "source": [
    "df1_1.to_csv(\"Total_Yards.csv\")"
   ]
  },
  {
   "cell_type": "code",
   "execution_count": 76,
   "id": "dcc0f5ac",
   "metadata": {},
   "outputs": [],
   "source": [
    "df_total_passing = pd.DataFrame(Total_Passing)"
   ]
  },
  {
   "cell_type": "code",
   "execution_count": 77,
   "id": "16f85f5b",
   "metadata": {},
   "outputs": [],
   "source": [
    "Teams = [\"San Francisco 49ers\", \"Dallas Cowboys\", \"Seattle Seahawks\", \"Las Vegas Raiders\", \"Philadelphia Eagles\"]"
   ]
  },
  {
   "cell_type": "code",
   "execution_count": 79,
   "id": "35994eb5",
   "metadata": {},
   "outputs": [],
   "source": [
    "df_total_passing.insert(1, \"Team\", [\"San Francisco 49ers\", \"Dallas Cowboys\", \"Seattle Seahawks\", \"Las Vegas Raiders\", \"Philadelphia Eagles\", \"Team\"], True)"
   ]
  },
  {
   "cell_type": "code",
   "execution_count": 80,
   "id": "c8b9eeae",
   "metadata": {},
   "outputs": [
    {
     "name": "stdout",
     "output_type": "stream",
     "text": [
      "            Passing                 Team             YDS/G\n",
      "0                 1  San Francisco 49ers             267.7\n",
      "1                 2       Dallas Cowboys             255.5\n",
      "2                 3     Seattle Seahawks             246.7\n",
      "3                 4    Las Vegas Raiders             244.7\n",
      "4                 5  Philadelphia Eagles             244.3\n",
      "5  Complete Leaders                 Team  Complete Leaders\n"
     ]
    }
   ],
   "source": [
    "print(df_total_passing)"
   ]
  },
  {
   "cell_type": "code",
   "execution_count": 83,
   "id": "ef2bdec0",
   "metadata": {},
   "outputs": [
    {
     "data": {
      "text/html": [
       "<div>\n",
       "<style scoped>\n",
       "    .dataframe tbody tr th:only-of-type {\n",
       "        vertical-align: middle;\n",
       "    }\n",
       "\n",
       "    .dataframe tbody tr th {\n",
       "        vertical-align: top;\n",
       "    }\n",
       "\n",
       "    .dataframe thead th {\n",
       "        text-align: right;\n",
       "    }\n",
       "</style>\n",
       "<table border=\"1\" class=\"dataframe\">\n",
       "  <thead>\n",
       "    <tr style=\"text-align: right;\">\n",
       "      <th></th>\n",
       "      <th>Passing</th>\n",
       "      <th>Team</th>\n",
       "      <th>YDS/G</th>\n",
       "    </tr>\n",
       "  </thead>\n",
       "  <tbody>\n",
       "    <tr>\n",
       "      <th>0</th>\n",
       "      <td>1</td>\n",
       "      <td>San Francisco 49ers</td>\n",
       "      <td>267.7</td>\n",
       "    </tr>\n",
       "    <tr>\n",
       "      <th>1</th>\n",
       "      <td>2</td>\n",
       "      <td>Dallas Cowboys</td>\n",
       "      <td>255.5</td>\n",
       "    </tr>\n",
       "    <tr>\n",
       "      <th>2</th>\n",
       "      <td>3</td>\n",
       "      <td>Seattle Seahawks</td>\n",
       "      <td>246.7</td>\n",
       "    </tr>\n",
       "    <tr>\n",
       "      <th>3</th>\n",
       "      <td>4</td>\n",
       "      <td>Las Vegas Raiders</td>\n",
       "      <td>244.7</td>\n",
       "    </tr>\n",
       "    <tr>\n",
       "      <th>4</th>\n",
       "      <td>5</td>\n",
       "      <td>Philadelphia Eagles</td>\n",
       "      <td>244.3</td>\n",
       "    </tr>\n",
       "  </tbody>\n",
       "</table>\n",
       "</div>"
      ],
      "text/plain": [
       "  Passing                 Team  YDS/G\n",
       "0       1  San Francisco 49ers  267.7\n",
       "1       2       Dallas Cowboys  255.5\n",
       "2       3     Seattle Seahawks  246.7\n",
       "3       4    Las Vegas Raiders  244.7\n",
       "4       5  Philadelphia Eagles  244.3"
      ]
     },
     "execution_count": 83,
     "metadata": {},
     "output_type": "execute_result"
    }
   ],
   "source": [
    "df_total_passing.drop([5])"
   ]
  },
  {
   "cell_type": "code",
   "execution_count": 84,
   "id": "17c57244",
   "metadata": {},
   "outputs": [],
   "source": [
    "df_total_passing.to_csv(\"Total_Passing.csv\")"
   ]
  },
  {
   "cell_type": "code",
   "execution_count": 85,
   "id": "bbc4a73f",
   "metadata": {},
   "outputs": [],
   "source": [
    "df_total_rushing = pd.DataFrame(Total_Rushing)"
   ]
  },
  {
   "cell_type": "code",
   "execution_count": 86,
   "id": "8d4bfc0a",
   "metadata": {},
   "outputs": [],
   "source": [
    "Teams = [\"Green Bay Packers\",\"Baltimore Ravens\", \"Philadelphia Eagles\", \"Detroit Lions\", \"Washington Commanders\"]"
   ]
  },
  {
   "cell_type": "code",
   "execution_count": 88,
   "id": "ab8ec90f",
   "metadata": {},
   "outputs": [],
   "source": [
    "df_total_rushing.insert(1, \"Team\", [\"Green Bay Packers\",\"Baltimore Ravens\", \"Philadelphia Eagles\", \"Detroit Lions\", \"Washington Commanders\", \"Team\"], True)"
   ]
  },
  {
   "cell_type": "code",
   "execution_count": 89,
   "id": "3366ae1a",
   "metadata": {},
   "outputs": [
    {
     "name": "stdout",
     "output_type": "stream",
     "text": [
      "            Rushing                   Team             YDS/G\n",
      "0                 1      Green Bay Packers             204.0\n",
      "1                 2       Baltimore Ravens             203.3\n",
      "2                 3    Philadelphia Eagles             167.3\n",
      "3                 4          Detroit Lions             163.0\n",
      "4                 5  Washington Commanders             153.7\n",
      "5  Complete Leaders                   Team  Complete Leaders\n"
     ]
    }
   ],
   "source": [
    "print(df_total_rushing)"
   ]
  },
  {
   "cell_type": "code",
   "execution_count": 90,
   "id": "7016f89c",
   "metadata": {},
   "outputs": [
    {
     "data": {
      "text/html": [
       "<div>\n",
       "<style scoped>\n",
       "    .dataframe tbody tr th:only-of-type {\n",
       "        vertical-align: middle;\n",
       "    }\n",
       "\n",
       "    .dataframe tbody tr th {\n",
       "        vertical-align: top;\n",
       "    }\n",
       "\n",
       "    .dataframe thead th {\n",
       "        text-align: right;\n",
       "    }\n",
       "</style>\n",
       "<table border=\"1\" class=\"dataframe\">\n",
       "  <thead>\n",
       "    <tr style=\"text-align: right;\">\n",
       "      <th></th>\n",
       "      <th>Ranking</th>\n",
       "      <th>Team</th>\n",
       "      <th>YDS/G</th>\n",
       "    </tr>\n",
       "  </thead>\n",
       "  <tbody>\n",
       "    <tr>\n",
       "      <th>0</th>\n",
       "      <td>1</td>\n",
       "      <td>Green Bay Packers</td>\n",
       "      <td>204.0</td>\n",
       "    </tr>\n",
       "    <tr>\n",
       "      <th>1</th>\n",
       "      <td>2</td>\n",
       "      <td>Baltimore Ravens</td>\n",
       "      <td>203.3</td>\n",
       "    </tr>\n",
       "    <tr>\n",
       "      <th>2</th>\n",
       "      <td>3</td>\n",
       "      <td>Philadelphia Eagles</td>\n",
       "      <td>167.3</td>\n",
       "    </tr>\n",
       "    <tr>\n",
       "      <th>3</th>\n",
       "      <td>4</td>\n",
       "      <td>Detroit Lions</td>\n",
       "      <td>163.0</td>\n",
       "    </tr>\n",
       "    <tr>\n",
       "      <th>4</th>\n",
       "      <td>5</td>\n",
       "      <td>Washington Commanders</td>\n",
       "      <td>153.7</td>\n",
       "    </tr>\n",
       "    <tr>\n",
       "      <th>5</th>\n",
       "      <td>Complete Leaders</td>\n",
       "      <td>Team</td>\n",
       "      <td>Complete Leaders</td>\n",
       "    </tr>\n",
       "  </tbody>\n",
       "</table>\n",
       "</div>"
      ],
      "text/plain": [
       "            Ranking                   Team             YDS/G\n",
       "0                 1      Green Bay Packers             204.0\n",
       "1                 2       Baltimore Ravens             203.3\n",
       "2                 3    Philadelphia Eagles             167.3\n",
       "3                 4          Detroit Lions             163.0\n",
       "4                 5  Washington Commanders             153.7\n",
       "5  Complete Leaders                   Team  Complete Leaders"
      ]
     },
     "execution_count": 90,
     "metadata": {},
     "output_type": "execute_result"
    }
   ],
   "source": [
    "df_total_rushing.rename(columns={\"Rushing\": \"Ranking\"})"
   ]
  },
  {
   "cell_type": "code",
   "execution_count": 91,
   "id": "58f94f82",
   "metadata": {},
   "outputs": [
    {
     "data": {
      "text/html": [
       "<div>\n",
       "<style scoped>\n",
       "    .dataframe tbody tr th:only-of-type {\n",
       "        vertical-align: middle;\n",
       "    }\n",
       "\n",
       "    .dataframe tbody tr th {\n",
       "        vertical-align: top;\n",
       "    }\n",
       "\n",
       "    .dataframe thead th {\n",
       "        text-align: right;\n",
       "    }\n",
       "</style>\n",
       "<table border=\"1\" class=\"dataframe\">\n",
       "  <thead>\n",
       "    <tr style=\"text-align: right;\">\n",
       "      <th></th>\n",
       "      <th>Rushing</th>\n",
       "      <th>Team</th>\n",
       "      <th>YDS/G</th>\n",
       "    </tr>\n",
       "  </thead>\n",
       "  <tbody>\n",
       "    <tr>\n",
       "      <th>0</th>\n",
       "      <td>1</td>\n",
       "      <td>Green Bay Packers</td>\n",
       "      <td>204.0</td>\n",
       "    </tr>\n",
       "    <tr>\n",
       "      <th>1</th>\n",
       "      <td>2</td>\n",
       "      <td>Baltimore Ravens</td>\n",
       "      <td>203.3</td>\n",
       "    </tr>\n",
       "    <tr>\n",
       "      <th>2</th>\n",
       "      <td>3</td>\n",
       "      <td>Philadelphia Eagles</td>\n",
       "      <td>167.3</td>\n",
       "    </tr>\n",
       "    <tr>\n",
       "      <th>3</th>\n",
       "      <td>4</td>\n",
       "      <td>Detroit Lions</td>\n",
       "      <td>163.0</td>\n",
       "    </tr>\n",
       "    <tr>\n",
       "      <th>4</th>\n",
       "      <td>5</td>\n",
       "      <td>Washington Commanders</td>\n",
       "      <td>153.7</td>\n",
       "    </tr>\n",
       "  </tbody>\n",
       "</table>\n",
       "</div>"
      ],
      "text/plain": [
       "  Rushing                   Team  YDS/G\n",
       "0       1      Green Bay Packers  204.0\n",
       "1       2       Baltimore Ravens  203.3\n",
       "2       3    Philadelphia Eagles  167.3\n",
       "3       4          Detroit Lions  163.0\n",
       "4       5  Washington Commanders  153.7"
      ]
     },
     "execution_count": 91,
     "metadata": {},
     "output_type": "execute_result"
    }
   ],
   "source": [
    "df_total_rushing.drop([5])"
   ]
  },
  {
   "cell_type": "code",
   "execution_count": 92,
   "id": "ae2de88e",
   "metadata": {},
   "outputs": [],
   "source": [
    "df_total_rushing.to_csv(\"Total_Rushing.csv\")"
   ]
  },
  {
   "cell_type": "code",
   "execution_count": 93,
   "id": "9cc67ebc",
   "metadata": {},
   "outputs": [],
   "source": [
    "df_total_yards_allowed = pd.DataFrame(Total_Yards_Allowed)"
   ]
  },
  {
   "cell_type": "code",
   "execution_count": 94,
   "id": "dac4f488",
   "metadata": {},
   "outputs": [],
   "source": [
    "Teams = [\"Pittsburgh Steelers\", \"Seattle Seahawks\", \"Denver Broncos\", \"Houston Texans\", \"Tennessee Titans\"]"
   ]
  },
  {
   "cell_type": "code",
   "execution_count": 95,
   "id": "11e64bff",
   "metadata": {},
   "outputs": [],
   "source": [
    "df_total_yards_allowed.insert(1, \"Team\", [\"Pittsburgh Steelers\", \"Seattle Seahawks\", \"Denver Broncos\", \"Houston Texans\", \"Tennessee Titans\", \"Team\"], True)"
   ]
  },
  {
   "cell_type": "code",
   "execution_count": 96,
   "id": "0b0840a0",
   "metadata": {},
   "outputs": [
    {
     "name": "stdout",
     "output_type": "stream",
     "text": [
      "      Yards Allowed                 Team             YDS/G\n",
      "0                 1  Pittsburgh Steelers             229.0\n",
      "1                 2     Seattle Seahawks             248.7\n",
      "2                 3       Denver Broncos             259.3\n",
      "3                 4       Houston Texans             260.7\n",
      "4                 5     Tennessee Titans             263.7\n",
      "5  Complete Leaders                 Team  Complete Leaders\n"
     ]
    }
   ],
   "source": [
    "print(df_total_yards_allowed)"
   ]
  },
  {
   "cell_type": "code",
   "execution_count": 97,
   "id": "1f77b1ca",
   "metadata": {},
   "outputs": [
    {
     "data": {
      "text/html": [
       "<div>\n",
       "<style scoped>\n",
       "    .dataframe tbody tr th:only-of-type {\n",
       "        vertical-align: middle;\n",
       "    }\n",
       "\n",
       "    .dataframe tbody tr th {\n",
       "        vertical-align: top;\n",
       "    }\n",
       "\n",
       "    .dataframe thead th {\n",
       "        text-align: right;\n",
       "    }\n",
       "</style>\n",
       "<table border=\"1\" class=\"dataframe\">\n",
       "  <thead>\n",
       "    <tr style=\"text-align: right;\">\n",
       "      <th></th>\n",
       "      <th>Ranking</th>\n",
       "      <th>Team</th>\n",
       "      <th>YDS/G</th>\n",
       "    </tr>\n",
       "  </thead>\n",
       "  <tbody>\n",
       "    <tr>\n",
       "      <th>0</th>\n",
       "      <td>1</td>\n",
       "      <td>Pittsburgh Steelers</td>\n",
       "      <td>229.0</td>\n",
       "    </tr>\n",
       "    <tr>\n",
       "      <th>1</th>\n",
       "      <td>2</td>\n",
       "      <td>Seattle Seahawks</td>\n",
       "      <td>248.7</td>\n",
       "    </tr>\n",
       "    <tr>\n",
       "      <th>2</th>\n",
       "      <td>3</td>\n",
       "      <td>Denver Broncos</td>\n",
       "      <td>259.3</td>\n",
       "    </tr>\n",
       "    <tr>\n",
       "      <th>3</th>\n",
       "      <td>4</td>\n",
       "      <td>Houston Texans</td>\n",
       "      <td>260.7</td>\n",
       "    </tr>\n",
       "    <tr>\n",
       "      <th>4</th>\n",
       "      <td>5</td>\n",
       "      <td>Tennessee Titans</td>\n",
       "      <td>263.7</td>\n",
       "    </tr>\n",
       "    <tr>\n",
       "      <th>5</th>\n",
       "      <td>Complete Leaders</td>\n",
       "      <td>Team</td>\n",
       "      <td>Complete Leaders</td>\n",
       "    </tr>\n",
       "  </tbody>\n",
       "</table>\n",
       "</div>"
      ],
      "text/plain": [
       "            Ranking                 Team             YDS/G\n",
       "0                 1  Pittsburgh Steelers             229.0\n",
       "1                 2     Seattle Seahawks             248.7\n",
       "2                 3       Denver Broncos             259.3\n",
       "3                 4       Houston Texans             260.7\n",
       "4                 5     Tennessee Titans             263.7\n",
       "5  Complete Leaders                 Team  Complete Leaders"
      ]
     },
     "execution_count": 97,
     "metadata": {},
     "output_type": "execute_result"
    }
   ],
   "source": [
    "df_total_yards_allowed.rename(columns={\"Yards Allowed\": \"Ranking\"})"
   ]
  },
  {
   "cell_type": "code",
   "execution_count": 98,
   "id": "c1770bee",
   "metadata": {},
   "outputs": [
    {
     "data": {
      "text/html": [
       "<div>\n",
       "<style scoped>\n",
       "    .dataframe tbody tr th:only-of-type {\n",
       "        vertical-align: middle;\n",
       "    }\n",
       "\n",
       "    .dataframe tbody tr th {\n",
       "        vertical-align: top;\n",
       "    }\n",
       "\n",
       "    .dataframe thead th {\n",
       "        text-align: right;\n",
       "    }\n",
       "</style>\n",
       "<table border=\"1\" class=\"dataframe\">\n",
       "  <thead>\n",
       "    <tr style=\"text-align: right;\">\n",
       "      <th></th>\n",
       "      <th>Rushing</th>\n",
       "      <th>Team</th>\n",
       "      <th>YDS/G</th>\n",
       "    </tr>\n",
       "  </thead>\n",
       "  <tbody>\n",
       "    <tr>\n",
       "      <th>0</th>\n",
       "      <td>1</td>\n",
       "      <td>Green Bay Packers</td>\n",
       "      <td>204.0</td>\n",
       "    </tr>\n",
       "    <tr>\n",
       "      <th>1</th>\n",
       "      <td>2</td>\n",
       "      <td>Baltimore Ravens</td>\n",
       "      <td>203.3</td>\n",
       "    </tr>\n",
       "    <tr>\n",
       "      <th>2</th>\n",
       "      <td>3</td>\n",
       "      <td>Philadelphia Eagles</td>\n",
       "      <td>167.3</td>\n",
       "    </tr>\n",
       "    <tr>\n",
       "      <th>3</th>\n",
       "      <td>4</td>\n",
       "      <td>Detroit Lions</td>\n",
       "      <td>163.0</td>\n",
       "    </tr>\n",
       "    <tr>\n",
       "      <th>4</th>\n",
       "      <td>5</td>\n",
       "      <td>Washington Commanders</td>\n",
       "      <td>153.7</td>\n",
       "    </tr>\n",
       "  </tbody>\n",
       "</table>\n",
       "</div>"
      ],
      "text/plain": [
       "  Rushing                   Team  YDS/G\n",
       "0       1      Green Bay Packers  204.0\n",
       "1       2       Baltimore Ravens  203.3\n",
       "2       3    Philadelphia Eagles  167.3\n",
       "3       4          Detroit Lions  163.0\n",
       "4       5  Washington Commanders  153.7"
      ]
     },
     "execution_count": 98,
     "metadata": {},
     "output_type": "execute_result"
    }
   ],
   "source": [
    "df_total_rushing.drop([5])"
   ]
  },
  {
   "cell_type": "code",
   "execution_count": 99,
   "id": "3f0fc32e",
   "metadata": {},
   "outputs": [],
   "source": [
    "df_total_yards_allowed.to_csv(\"Total_Yards_Allowed.csv\")"
   ]
  },
  {
   "cell_type": "code",
   "execution_count": 100,
   "id": "2f1b718c",
   "metadata": {},
   "outputs": [],
   "source": [
    "df_total_sacks = pd.DataFrame(Total_Sacks)"
   ]
  },
  {
   "cell_type": "code",
   "execution_count": 101,
   "id": "af9f0c2a",
   "metadata": {},
   "outputs": [],
   "source": [
    "Teams = [\"Minnesota Vikings\",\"New York Giants\", \"New York Jets\", \"Houston Texans\", \"Buffalo Bills\"]"
   ]
  },
  {
   "cell_type": "code",
   "execution_count": 102,
   "id": "4306cefc",
   "metadata": {},
   "outputs": [],
   "source": [
    "df_total_sacks.insert(1, \"Team\", [\"Minnesota Vikings\",\"New York Giants\", \"New York Jets\", \"Houston Texans\", \"Buffalo Bills\", \"Team\"],True)"
   ]
  },
  {
   "cell_type": "code",
   "execution_count": 103,
   "id": "88bfab8e",
   "metadata": {},
   "outputs": [
    {
     "name": "stdout",
     "output_type": "stream",
     "text": [
      "              Sacks               Team              SACK\n",
      "0                 1  Minnesota Vikings              16.0\n",
      "1                 2    New York Giants              15.0\n",
      "2                 3      New York Jets              14.0\n",
      "3                 4     Houston Texans              13.0\n",
      "4                 5      Buffalo Bills              11.0\n",
      "5  Complete Leaders               Team  Complete Leaders\n"
     ]
    }
   ],
   "source": [
    "print(df_total_sacks)"
   ]
  },
  {
   "cell_type": "code",
   "execution_count": 104,
   "id": "e3d1e5af",
   "metadata": {},
   "outputs": [
    {
     "data": {
      "text/html": [
       "<div>\n",
       "<style scoped>\n",
       "    .dataframe tbody tr th:only-of-type {\n",
       "        vertical-align: middle;\n",
       "    }\n",
       "\n",
       "    .dataframe tbody tr th {\n",
       "        vertical-align: top;\n",
       "    }\n",
       "\n",
       "    .dataframe thead th {\n",
       "        text-align: right;\n",
       "    }\n",
       "</style>\n",
       "<table border=\"1\" class=\"dataframe\">\n",
       "  <thead>\n",
       "    <tr style=\"text-align: right;\">\n",
       "      <th></th>\n",
       "      <th>Ranking</th>\n",
       "      <th>Team</th>\n",
       "      <th>SACK</th>\n",
       "    </tr>\n",
       "  </thead>\n",
       "  <tbody>\n",
       "    <tr>\n",
       "      <th>0</th>\n",
       "      <td>1</td>\n",
       "      <td>Minnesota Vikings</td>\n",
       "      <td>16.0</td>\n",
       "    </tr>\n",
       "    <tr>\n",
       "      <th>1</th>\n",
       "      <td>2</td>\n",
       "      <td>New York Giants</td>\n",
       "      <td>15.0</td>\n",
       "    </tr>\n",
       "    <tr>\n",
       "      <th>2</th>\n",
       "      <td>3</td>\n",
       "      <td>New York Jets</td>\n",
       "      <td>14.0</td>\n",
       "    </tr>\n",
       "    <tr>\n",
       "      <th>3</th>\n",
       "      <td>4</td>\n",
       "      <td>Houston Texans</td>\n",
       "      <td>13.0</td>\n",
       "    </tr>\n",
       "    <tr>\n",
       "      <th>4</th>\n",
       "      <td>5</td>\n",
       "      <td>Buffalo Bills</td>\n",
       "      <td>11.0</td>\n",
       "    </tr>\n",
       "    <tr>\n",
       "      <th>5</th>\n",
       "      <td>Complete Leaders</td>\n",
       "      <td>Team</td>\n",
       "      <td>Complete Leaders</td>\n",
       "    </tr>\n",
       "  </tbody>\n",
       "</table>\n",
       "</div>"
      ],
      "text/plain": [
       "            Ranking               Team              SACK\n",
       "0                 1  Minnesota Vikings              16.0\n",
       "1                 2    New York Giants              15.0\n",
       "2                 3      New York Jets              14.0\n",
       "3                 4     Houston Texans              13.0\n",
       "4                 5      Buffalo Bills              11.0\n",
       "5  Complete Leaders               Team  Complete Leaders"
      ]
     },
     "execution_count": 104,
     "metadata": {},
     "output_type": "execute_result"
    }
   ],
   "source": [
    "df_total_sacks.rename(columns={\"Sacks\": \"Ranking\"})"
   ]
  },
  {
   "cell_type": "code",
   "execution_count": 105,
   "id": "99cbec86",
   "metadata": {},
   "outputs": [
    {
     "data": {
      "text/html": [
       "<div>\n",
       "<style scoped>\n",
       "    .dataframe tbody tr th:only-of-type {\n",
       "        vertical-align: middle;\n",
       "    }\n",
       "\n",
       "    .dataframe tbody tr th {\n",
       "        vertical-align: top;\n",
       "    }\n",
       "\n",
       "    .dataframe thead th {\n",
       "        text-align: right;\n",
       "    }\n",
       "</style>\n",
       "<table border=\"1\" class=\"dataframe\">\n",
       "  <thead>\n",
       "    <tr style=\"text-align: right;\">\n",
       "      <th></th>\n",
       "      <th>Sacks</th>\n",
       "      <th>Team</th>\n",
       "      <th>SACK</th>\n",
       "    </tr>\n",
       "  </thead>\n",
       "  <tbody>\n",
       "    <tr>\n",
       "      <th>0</th>\n",
       "      <td>1</td>\n",
       "      <td>Minnesota Vikings</td>\n",
       "      <td>16.0</td>\n",
       "    </tr>\n",
       "    <tr>\n",
       "      <th>1</th>\n",
       "      <td>2</td>\n",
       "      <td>New York Giants</td>\n",
       "      <td>15.0</td>\n",
       "    </tr>\n",
       "    <tr>\n",
       "      <th>2</th>\n",
       "      <td>3</td>\n",
       "      <td>New York Jets</td>\n",
       "      <td>14.0</td>\n",
       "    </tr>\n",
       "    <tr>\n",
       "      <th>3</th>\n",
       "      <td>4</td>\n",
       "      <td>Houston Texans</td>\n",
       "      <td>13.0</td>\n",
       "    </tr>\n",
       "    <tr>\n",
       "      <th>4</th>\n",
       "      <td>5</td>\n",
       "      <td>Buffalo Bills</td>\n",
       "      <td>11.0</td>\n",
       "    </tr>\n",
       "  </tbody>\n",
       "</table>\n",
       "</div>"
      ],
      "text/plain": [
       "  Sacks               Team  SACK\n",
       "0     1  Minnesota Vikings  16.0\n",
       "1     2    New York Giants  15.0\n",
       "2     3      New York Jets  14.0\n",
       "3     4     Houston Texans  13.0\n",
       "4     5      Buffalo Bills  11.0"
      ]
     },
     "execution_count": 105,
     "metadata": {},
     "output_type": "execute_result"
    }
   ],
   "source": [
    "df_total_sacks.drop([5])"
   ]
  },
  {
   "cell_type": "code",
   "execution_count": 106,
   "id": "8a7604f8",
   "metadata": {},
   "outputs": [],
   "source": [
    "df_total_sacks.to_csv(\"Total_Sacks.csv\")"
   ]
  },
  {
   "cell_type": "code",
   "execution_count": 107,
   "id": "5ca7930e",
   "metadata": {},
   "outputs": [],
   "source": [
    "df_total_turnovers = pd.DataFrame(Total_Turnovers)"
   ]
  },
  {
   "cell_type": "code",
   "execution_count": 108,
   "id": "07f52fd1",
   "metadata": {},
   "outputs": [],
   "source": [
    "Teams = [\"Green Bay Packers\", \"Buffalo Bills\", \"New Orleans Saints\", \"Pittsburgh Steelers\", \"Los Angeles Chargers\"]"
   ]
  },
  {
   "cell_type": "code",
   "execution_count": 109,
   "id": "c965ce60",
   "metadata": {},
   "outputs": [],
   "source": [
    "df_total_turnovers.insert(1, \"Team\", [\"Green Bay Packers\", \"Buffalo Bills\", \"New Orleans Saints\", \"Pittsburgh Steelers\", \"Los Angeles Chargers\", \"Teams\"], True)"
   ]
  },
  {
   "cell_type": "code",
   "execution_count": 110,
   "id": "c6b9ccf4",
   "metadata": {},
   "outputs": [
    {
     "name": "stdout",
     "output_type": "stream",
     "text": [
      "          Turnovers                  Team              DIFF\n",
      "0                 1     Green Bay Packers                 7\n",
      "1                 2         Buffalo Bills                 5\n",
      "2                 3    New Orleans Saints                 4\n",
      "3                 3   Pittsburgh Steelers                 4\n",
      "4                 5  Los Angeles Chargers                 3\n",
      "5  Complete Leaders                 Teams  Complete Leaders\n"
     ]
    }
   ],
   "source": [
    "print(df_total_turnovers)"
   ]
  },
  {
   "cell_type": "code",
   "execution_count": 111,
   "id": "e8c85d80",
   "metadata": {},
   "outputs": [
    {
     "data": {
      "text/html": [
       "<div>\n",
       "<style scoped>\n",
       "    .dataframe tbody tr th:only-of-type {\n",
       "        vertical-align: middle;\n",
       "    }\n",
       "\n",
       "    .dataframe tbody tr th {\n",
       "        vertical-align: top;\n",
       "    }\n",
       "\n",
       "    .dataframe thead th {\n",
       "        text-align: right;\n",
       "    }\n",
       "</style>\n",
       "<table border=\"1\" class=\"dataframe\">\n",
       "  <thead>\n",
       "    <tr style=\"text-align: right;\">\n",
       "      <th></th>\n",
       "      <th>Ranking</th>\n",
       "      <th>Team</th>\n",
       "      <th>DIFF</th>\n",
       "    </tr>\n",
       "  </thead>\n",
       "  <tbody>\n",
       "    <tr>\n",
       "      <th>0</th>\n",
       "      <td>1</td>\n",
       "      <td>Green Bay Packers</td>\n",
       "      <td>7</td>\n",
       "    </tr>\n",
       "    <tr>\n",
       "      <th>1</th>\n",
       "      <td>2</td>\n",
       "      <td>Buffalo Bills</td>\n",
       "      <td>5</td>\n",
       "    </tr>\n",
       "    <tr>\n",
       "      <th>2</th>\n",
       "      <td>3</td>\n",
       "      <td>New Orleans Saints</td>\n",
       "      <td>4</td>\n",
       "    </tr>\n",
       "    <tr>\n",
       "      <th>3</th>\n",
       "      <td>3</td>\n",
       "      <td>Pittsburgh Steelers</td>\n",
       "      <td>4</td>\n",
       "    </tr>\n",
       "    <tr>\n",
       "      <th>4</th>\n",
       "      <td>5</td>\n",
       "      <td>Los Angeles Chargers</td>\n",
       "      <td>3</td>\n",
       "    </tr>\n",
       "    <tr>\n",
       "      <th>5</th>\n",
       "      <td>Complete Leaders</td>\n",
       "      <td>Teams</td>\n",
       "      <td>Complete Leaders</td>\n",
       "    </tr>\n",
       "  </tbody>\n",
       "</table>\n",
       "</div>"
      ],
      "text/plain": [
       "            Ranking                  Team              DIFF\n",
       "0                 1     Green Bay Packers                 7\n",
       "1                 2         Buffalo Bills                 5\n",
       "2                 3    New Orleans Saints                 4\n",
       "3                 3   Pittsburgh Steelers                 4\n",
       "4                 5  Los Angeles Chargers                 3\n",
       "5  Complete Leaders                 Teams  Complete Leaders"
      ]
     },
     "execution_count": 111,
     "metadata": {},
     "output_type": "execute_result"
    }
   ],
   "source": [
    "df_total_turnovers.rename(columns={\"Turnovers\": \"Ranking\"})"
   ]
  },
  {
   "cell_type": "code",
   "execution_count": 112,
   "id": "c7be70e8",
   "metadata": {},
   "outputs": [
    {
     "data": {
      "text/html": [
       "<div>\n",
       "<style scoped>\n",
       "    .dataframe tbody tr th:only-of-type {\n",
       "        vertical-align: middle;\n",
       "    }\n",
       "\n",
       "    .dataframe tbody tr th {\n",
       "        vertical-align: top;\n",
       "    }\n",
       "\n",
       "    .dataframe thead th {\n",
       "        text-align: right;\n",
       "    }\n",
       "</style>\n",
       "<table border=\"1\" class=\"dataframe\">\n",
       "  <thead>\n",
       "    <tr style=\"text-align: right;\">\n",
       "      <th></th>\n",
       "      <th>Turnovers</th>\n",
       "      <th>Team</th>\n",
       "      <th>DIFF</th>\n",
       "    </tr>\n",
       "  </thead>\n",
       "  <tbody>\n",
       "    <tr>\n",
       "      <th>0</th>\n",
       "      <td>1</td>\n",
       "      <td>Green Bay Packers</td>\n",
       "      <td>7</td>\n",
       "    </tr>\n",
       "    <tr>\n",
       "      <th>1</th>\n",
       "      <td>2</td>\n",
       "      <td>Buffalo Bills</td>\n",
       "      <td>5</td>\n",
       "    </tr>\n",
       "    <tr>\n",
       "      <th>2</th>\n",
       "      <td>3</td>\n",
       "      <td>New Orleans Saints</td>\n",
       "      <td>4</td>\n",
       "    </tr>\n",
       "    <tr>\n",
       "      <th>3</th>\n",
       "      <td>3</td>\n",
       "      <td>Pittsburgh Steelers</td>\n",
       "      <td>4</td>\n",
       "    </tr>\n",
       "    <tr>\n",
       "      <th>4</th>\n",
       "      <td>5</td>\n",
       "      <td>Los Angeles Chargers</td>\n",
       "      <td>3</td>\n",
       "    </tr>\n",
       "  </tbody>\n",
       "</table>\n",
       "</div>"
      ],
      "text/plain": [
       "  Turnovers                  Team DIFF\n",
       "0         1     Green Bay Packers    7\n",
       "1         2         Buffalo Bills    5\n",
       "2         3    New Orleans Saints    4\n",
       "3         3   Pittsburgh Steelers    4\n",
       "4         5  Los Angeles Chargers    3"
      ]
     },
     "execution_count": 112,
     "metadata": {},
     "output_type": "execute_result"
    }
   ],
   "source": [
    "df_total_turnovers.drop([5])"
   ]
  },
  {
   "cell_type": "code",
   "execution_count": 113,
   "id": "f17af282",
   "metadata": {},
   "outputs": [],
   "source": [
    "df_total_turnovers.to_csv(\"Total_Turnovers.csv\")"
   ]
  },
  {
   "cell_type": "code",
   "execution_count": null,
   "id": "2283942a",
   "metadata": {},
   "outputs": [],
   "source": []
  }
 ],
 "metadata": {
  "kernelspec": {
   "display_name": "Python 3 (ipykernel)",
   "language": "python",
   "name": "python3"
  },
  "language_info": {
   "codemirror_mode": {
    "name": "ipython",
    "version": 3
   },
   "file_extension": ".py",
   "mimetype": "text/x-python",
   "name": "python",
   "nbconvert_exporter": "python",
   "pygments_lexer": "ipython3",
   "version": "3.9.12"
  }
 },
 "nbformat": 4,
 "nbformat_minor": 5
}
